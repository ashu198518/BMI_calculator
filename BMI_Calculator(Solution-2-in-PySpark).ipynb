{
 "cells": [
  {
   "cell_type": "code",
   "execution_count": 9,
   "id": "2997db47",
   "metadata": {},
   "outputs": [],
   "source": [
    "import findspark\n",
    "findspark.init()\n",
    "from pyspark.sql import SparkSession\n",
    "import pyspark.sql.functions as F\n",
    "import pyspark.sql.types as T"
   ]
  },
  {
   "cell_type": "code",
   "execution_count": 10,
   "id": "cbea7c35",
   "metadata": {},
   "outputs": [],
   "source": [
    "spark=SparkSession.builder.appName(\"Assignment\").getOrCreate()"
   ]
  },
  {
   "cell_type": "code",
   "execution_count": 11,
   "id": "0f1ced3b",
   "metadata": {},
   "outputs": [],
   "source": [
    "data=[{\"Gender\": \"Male\", \"HeightCm\": 171, \"WeightKg\": 96 },\n",
    "{ \"Gender\": \"Male\", \"HeightCm\": 161, \"WeightKg\": 85 },\n",
    "{ \"Gender\": \"Male\", \"HeightCm\": 180, \"WeightKg\": 77 },\n",
    "{ \"Gender\": \"Female\", \"HeightCm\": 166, \"WeightKg\": 62},\n",
    "{\"Gender\": \"Female\", \"HeightCm\": 150, \"WeightKg\": 70},\n",
    "{\"Gender\": \"Female\", \"HeightCm\": 167, \"WeightKg\": 82}]"
   ]
  },
  {
   "cell_type": "code",
   "execution_count": 12,
   "id": "da56b7d7",
   "metadata": {},
   "outputs": [
    {
     "name": "stderr",
     "output_type": "stream",
     "text": [
      "C:\\Apps\\spark-3.0.0-bin-hadoop2.7\\python\\pyspark\\sql\\session.py:378: UserWarning: inferring schema from dict is deprecated,please use pyspark.sql.Row instead\n",
      "  warnings.warn(\"inferring schema from dict is deprecated,\"\n"
     ]
    }
   ],
   "source": [
    "df=spark.createDataFrame(data)"
   ]
  },
  {
   "cell_type": "code",
   "execution_count": 13,
   "id": "6d75d028",
   "metadata": {},
   "outputs": [
    {
     "name": "stdout",
     "output_type": "stream",
     "text": [
      "+------+--------+--------+\n",
      "|Gender|HeightCm|WeightKg|\n",
      "+------+--------+--------+\n",
      "|Male  |171     |96      |\n",
      "|Male  |161     |85      |\n",
      "|Male  |180     |77      |\n",
      "|Female|166     |62      |\n",
      "|Female|150     |70      |\n",
      "|Female|167     |82      |\n",
      "+------+--------+--------+\n",
      "\n"
     ]
    }
   ],
   "source": [
    "df.show(6,0)"
   ]
  },
  {
   "cell_type": "markdown",
   "id": "df19aedb",
   "metadata": {},
   "source": [
    "##### 1) Calculate the BMI (Body Mass Index) using Formula 1, BMI Category and Health risk from Table 1 of the person and add them as 3 new columns\n",
    "Formula: BMI(kg/m2) = mass(kg) / height(m)2"
   ]
  },
  {
   "cell_type": "code",
   "execution_count": 55,
   "id": "b94b0e24",
   "metadata": {},
   "outputs": [
    {
     "name": "stdout",
     "output_type": "stream",
     "text": [
      "+------+--------+--------+------------------+\n",
      "|Gender|HeightCm|WeightKg|BMI(kg/m2)        |\n",
      "+------+--------+--------+------------------+\n",
      "|Male  |171     |96      |32.83061454806607 |\n",
      "|Male  |161     |85      |32.79194475521777 |\n",
      "|Male  |180     |77      |23.76543209876543 |\n",
      "|Female|166     |62      |22.49963710262738 |\n",
      "|Female|150     |70      |31.11111111111111 |\n",
      "|Female|167     |82      |29.402273297715947|\n",
      "+------+--------+--------+------------------+\n",
      "\n"
     ]
    }
   ],
   "source": [
    "df_bmi=df.withColumn(\"BMI(kg/m2)\", df['WeightKg']/F.pow((df['HeightCm']/100), 2))\n",
    "df_bmi.show(6,0)"
   ]
  },
  {
   "cell_type": "code",
   "execution_count": 87,
   "id": "f6d5c3b5",
   "metadata": {},
   "outputs": [
    {
     "name": "stdout",
     "output_type": "stream",
     "text": [
      "+------+--------+--------+------------------+----------------+\n",
      "|Gender|HeightCm|WeightKg|BMI(kg/m2)        |MI_Category     |\n",
      "+------+--------+--------+------------------+----------------+\n",
      "|Male  |171     |96      |32.83061454806607 |Moderately obese|\n",
      "|Male  |161     |85      |32.79194475521777 |Moderately obese|\n",
      "|Male  |180     |77      |23.76543209876543 |Normal weight   |\n",
      "|Female|166     |62      |22.49963710262738 |Normal weight   |\n",
      "|Female|150     |70      |31.11111111111111 |Moderately obese|\n",
      "|Female|167     |82      |29.402273297715947|Overweight      |\n",
      "+------+--------+--------+------------------+----------------+\n",
      "\n"
     ]
    }
   ],
   "source": [
    "df2=df_bmi.withColumn(\"MI_Category\", F.when(df_bmi['bmi(kg/m2)']<=18.4, 'Underweight').when((df_bmi['bmi(kg/m2)']>=18.5)&(df_bmi['bmi(kg/m2)']<24.9), 'Normal weight')\\\n",
    "                  .when((df_bmi['bmi(kg/m2)']>=25)&(df_bmi['bmi(kg/m2)']<29.9), 'Overweight')\\\n",
    "                  .when((df_bmi['bmi(kg/m2)']>=30)&(df_bmi['bmi(kg/m2)']<34.9), 'Moderately obese')\\\n",
    "                  .when((df_bmi['bmi(kg/m2)']>=35)&(df_bmi['bmi(kg/m2)']<39.9), 'Severely obese')\\\n",
    "                  .otherwise(F.lit('Very severely obese')))\n",
    "df2.show(6,0)\n"
   ]
  },
  {
   "cell_type": "code",
   "execution_count": 95,
   "id": "f98cae39",
   "metadata": {},
   "outputs": [
    {
     "name": "stdout",
     "output_type": "stream",
     "text": [
      "+------+--------+--------+------------------+----------------+-------------+\n",
      "|Gender|HeightCm|WeightKg|BMI(kg/m2)        |MI_Category     |Health risk  |\n",
      "+------+--------+--------+------------------+----------------+-------------+\n",
      "|Male  |171     |96      |32.83061454806607 |Moderately obese|Medium risk  |\n",
      "|Male  |161     |85      |32.79194475521777 |Moderately obese|Medium risk  |\n",
      "|Male  |180     |77      |23.76543209876543 |Normal weight   |Low risk     |\n",
      "|Female|166     |62      |22.49963710262738 |Normal weight   |Low risk     |\n",
      "|Female|150     |70      |31.11111111111111 |Moderately obese|Medium risk  |\n",
      "|Female|167     |82      |29.402273297715947|Overweight      |Enhanced risk|\n",
      "+------+--------+--------+------------------+----------------+-------------+\n",
      "\n"
     ]
    }
   ],
   "source": [
    "df3=df2.withColumn('Health risk', F.when(df2['MI_Category']=='Underweight', 'Malnutrition risk')\\\n",
    "               .when(df2['MI_Category']=='Normal weight', 'Low risk')\\\n",
    "               .when(df2['MI_Category']=='Overweight', 'Enhanced risk')\\\n",
    "               .when(df2['MI_Category']=='Moderately obese', 'Medium risk')\\\n",
    "               .when(df2['MI_Category']=='Severely obese', 'High risk')\\\n",
    "               .otherwise('Very high risk'))\n",
    "df3.show(6,0)"
   ]
  },
  {
   "cell_type": "markdown",
   "id": "76966e48",
   "metadata": {},
   "source": [
    "##### 2)Count the total number of overweight people"
   ]
  },
  {
   "cell_type": "code",
   "execution_count": 97,
   "id": "4e1ef326",
   "metadata": {},
   "outputs": [
    {
     "data": {
      "text/plain": [
       "1"
      ]
     },
     "execution_count": 97,
     "metadata": {},
     "output_type": "execute_result"
    }
   ],
   "source": [
    "df3.filter(df3['MI_Category']=='Overweight').count()"
   ]
  }
 ],
 "metadata": {
  "kernelspec": {
   "display_name": "Python 3",
   "language": "python",
   "name": "python3"
  },
  "language_info": {
   "codemirror_mode": {
    "name": "ipython",
    "version": 3
   },
   "file_extension": ".py",
   "mimetype": "text/x-python",
   "name": "python",
   "nbconvert_exporter": "python",
   "pygments_lexer": "ipython3",
   "version": "3.8.8"
  }
 },
 "nbformat": 4,
 "nbformat_minor": 5
}
